{
 "cells": [
  {
   "cell_type": "code",
   "execution_count": 33,
   "metadata": {
    "colab": {
     "base_uri": "https://localhost:8080/"
    },
    "id": "j1-zMq3a79nd",
    "outputId": "1102dd94-4abf-47bd-bc66-36b2b442b7d3"
   },
   "outputs": [
    {
     "name": "stdout",
     "output_type": "stream",
     "text": [
      "Requirement already satisfied: bs4 in c:\\users\\alisa\\anaconda3\\lib\\site-packages (0.0.1)\n",
      "Requirement already satisfied: beautifulsoup4 in c:\\users\\alisa\\anaconda3\\lib\\site-packages (from bs4) (4.9.3)\n",
      "Requirement already satisfied: soupsieve>1.2 in c:\\users\\alisa\\anaconda3\\lib\\site-packages (from beautifulsoup4->bs4) (2.2.1)\n",
      "Note: you may need to restart the kernel to use updated packages.\n"
     ]
    }
   ],
   "source": [
    "pip install bs4"
   ]
  },
  {
   "cell_type": "code",
   "execution_count": 34,
   "metadata": {
    "id": "9vp3f45e8EUL"
   },
   "outputs": [],
   "source": [
    "from bs4 import BeautifulSoup as bs"
   ]
  },
  {
   "cell_type": "code",
   "execution_count": 35,
   "metadata": {
    "id": "aTTDKjczrlyj"
   },
   "outputs": [],
   "source": [
    "import requests"
   ]
  },
  {
   "cell_type": "code",
   "execution_count": 36,
   "metadata": {
    "id": "lYwwdouncgte"
   },
   "outputs": [],
   "source": [
    "import re"
   ]
  },
  {
   "cell_type": "code",
   "execution_count": 37,
   "metadata": {
    "id": "4Iz8yJCwciVA"
   },
   "outputs": [],
   "source": [
    "import pandas as pd"
   ]
  },
  {
   "cell_type": "code",
   "execution_count": 38,
   "metadata": {
    "id": "g-Q8Momqoj5K"
   },
   "outputs": [],
   "source": [
    "url_source = 'https://hh.ru/vacancies/'"
   ]
  },
  {
   "cell_type": "code",
   "execution_count": 39,
   "metadata": {
    "id": "l_jsIGYRAYgf"
   },
   "outputs": [],
   "source": [
    "specialist = 'python-developer'"
   ]
  },
  {
   "cell_type": "code",
   "execution_count": 40,
   "metadata": {
    "id": "f7FB5YddzUXw"
   },
   "outputs": [],
   "source": [
    "headers = {'User-Agent': 'Mozilla/5.0 (Windows NT 10.0; Win64; x64) AppleWebKit/537.36 (KHTML, like Gecko) Chrome/114.0.0.0 YaBrowser/23.7.3.823 Yowser/2.5 Safari/537.36'}\n",
    "url = url_source + specialist\n",
    "vac_list = []"
   ]
  },
  {
   "cell_type": "code",
   "execution_count": 41,
   "metadata": {
    "id": "rW5v2nrEM4HO"
   },
   "outputs": [],
   "source": [
    "def get_information(url, page, headers):\n",
    "    params = {'page' : page}\n",
    "    response = requests.get(url, params = params, headers = headers)\n",
    "    soup = bs(response.text, 'html.parser')\n",
    "    vacancies = soup.find_all('div', {'class' : 'vacancy-serp-item-body__main-info'})\n",
    "\n",
    "    for v in vacancies:\n",
    "        vac_data = {}\n",
    "\n",
    "        title = v.find('a', {'class' : 'serp-item__title'})\n",
    "        title = title.text\n",
    "\n",
    "        salary = v.find('span', {'class': 'bloko-header-section-2'})\n",
    "        try:\n",
    "            salary = salary.text\n",
    "        except:\n",
    "            salary = None\n",
    "        if salary == None:\n",
    "            curr = None\n",
    "        else:\n",
    "            salary = str(salary)\n",
    "            salary = re.sub(r'\\u202f','', salary)\n",
    "            curr = salary[-1]\n",
    "\n",
    "        if salary == None:\n",
    "            min_salary = None\n",
    "            max_salary = None\n",
    "        else:\n",
    "            salary_list = salary.split()\n",
    "            if salary_list[0] == 'от':\n",
    "                min_salary = float(salary_list[1])\n",
    "                max_salary = None\n",
    "            elif salary_list[0] == 'до':\n",
    "                min_salary = None\n",
    "                max_salary = float(salary_list[1])\n",
    "            else:\n",
    "                min_salary = float(salary_list[0])\n",
    "                max_salary = float(salary_list[2])\n",
    "\n",
    "        reference = v.find('a', {'data-qa' : 'serp-item__title'})\n",
    "        reference = reference.get('href')\n",
    "        source = url_source\n",
    "\n",
    "        vac_data['title'] = title\n",
    "        vac_data['salary'] = salary\n",
    "        vac_data['min_salary'] = min_salary\n",
    "        vac_data['max_salary'] = max_salary\n",
    "        vac_data['curr'] = curr\n",
    "        vac_data['reference'] = reference\n",
    "        vac_data['source'] = source\n",
    "        \n",
    "        return vac_data"
   ]
  },
  {
   "cell_type": "code",
   "execution_count": 42,
   "metadata": {
    "id": "gfmUH9si1D5r"
   },
   "outputs": [],
   "source": [
    "for page in range (40):\n",
    "    get_information(url, page, headers)"
   ]
  },
  {
   "cell_type": "code",
   "execution_count": 43,
   "metadata": {
    "id": "E6OReRkQ0Gra"
   },
   "outputs": [],
   "source": [
    "vac_dataset = pd.DataFrame(vac_data)"
   ]
  },
  {
   "cell_type": "code",
   "execution_count": 44,
   "metadata": {
    "colab": {
     "base_uri": "https://localhost:8080/",
     "height": 424
    },
    "id": "wwfFiHKgZbc_",
    "outputId": "6e30d438-14b7-4a6f-852d-20115a9dc8ef"
   },
   "outputs": [
    {
     "data": {
      "text/html": [
       "<div>\n",
       "<style scoped>\n",
       "    .dataframe tbody tr th:only-of-type {\n",
       "        vertical-align: middle;\n",
       "    }\n",
       "\n",
       "    .dataframe tbody tr th {\n",
       "        vertical-align: top;\n",
       "    }\n",
       "\n",
       "    .dataframe thead th {\n",
       "        text-align: right;\n",
       "    }\n",
       "</style>\n",
       "<table border=\"1\" class=\"dataframe\">\n",
       "  <thead>\n",
       "    <tr style=\"text-align: right;\">\n",
       "      <th></th>\n",
       "      <th>title</th>\n",
       "      <th>salary</th>\n",
       "      <th>min_salary</th>\n",
       "      <th>max_salary</th>\n",
       "      <th>curr</th>\n",
       "      <th>reference</th>\n",
       "      <th>source</th>\n",
       "    </tr>\n",
       "  </thead>\n",
       "  <tbody>\n",
       "    <tr>\n",
       "      <th>0</th>\n",
       "      <td>Программист системы сбора данных Python VBA</td>\n",
       "      <td>150000 – 200000 ₽</td>\n",
       "      <td>150000.0</td>\n",
       "      <td>200000.0</td>\n",
       "      <td>₽</td>\n",
       "      <td>https://hh.ru/vacancy/86292820?query=Python+de...</td>\n",
       "      <td>https://hh.ru/vacancies/</td>\n",
       "    </tr>\n",
       "    <tr>\n",
       "      <th>1</th>\n",
       "      <td>Python-разработчик</td>\n",
       "      <td>до 420000 ₽</td>\n",
       "      <td>NaN</td>\n",
       "      <td>420000.0</td>\n",
       "      <td>₽</td>\n",
       "      <td>https://hh.ru/vacancy/86085894?query=Python+de...</td>\n",
       "      <td>https://hh.ru/vacancies/</td>\n",
       "    </tr>\n",
       "    <tr>\n",
       "      <th>2</th>\n",
       "      <td>Python разработчик</td>\n",
       "      <td>200000 – 320000 ₽</td>\n",
       "      <td>200000.0</td>\n",
       "      <td>320000.0</td>\n",
       "      <td>₽</td>\n",
       "      <td>https://hh.ru/vacancy/86285552?query=Python+de...</td>\n",
       "      <td>https://hh.ru/vacancies/</td>\n",
       "    </tr>\n",
       "    <tr>\n",
       "      <th>3</th>\n",
       "      <td>Python-разработчик</td>\n",
       "      <td>120000 – 150000 ₽</td>\n",
       "      <td>120000.0</td>\n",
       "      <td>150000.0</td>\n",
       "      <td>₽</td>\n",
       "      <td>https://hh.ru/vacancy/85155504?query=Python+de...</td>\n",
       "      <td>https://hh.ru/vacancies/</td>\n",
       "    </tr>\n",
       "    <tr>\n",
       "      <th>4</th>\n",
       "      <td>Python-разработчик</td>\n",
       "      <td>до 450000 ₽</td>\n",
       "      <td>NaN</td>\n",
       "      <td>450000.0</td>\n",
       "      <td>₽</td>\n",
       "      <td>https://hh.ru/vacancy/86120529?query=Python+de...</td>\n",
       "      <td>https://hh.ru/vacancies/</td>\n",
       "    </tr>\n",
       "    <tr>\n",
       "      <th>...</th>\n",
       "      <td>...</td>\n",
       "      <td>...</td>\n",
       "      <td>...</td>\n",
       "      <td>...</td>\n",
       "      <td>...</td>\n",
       "      <td>...</td>\n",
       "      <td>...</td>\n",
       "    </tr>\n",
       "    <tr>\n",
       "      <th>1995</th>\n",
       "      <td>Казначей</td>\n",
       "      <td>100000 – 100000 ₽</td>\n",
       "      <td>100000.0</td>\n",
       "      <td>100000.0</td>\n",
       "      <td>₽</td>\n",
       "      <td>https://hh.ru/vacancy/86285060?query=Python+de...</td>\n",
       "      <td>https://hh.ru/vacancies/</td>\n",
       "    </tr>\n",
       "    <tr>\n",
       "      <th>1996</th>\n",
       "      <td>Solution Архитектор</td>\n",
       "      <td>None</td>\n",
       "      <td>NaN</td>\n",
       "      <td>NaN</td>\n",
       "      <td>None</td>\n",
       "      <td>https://hh.ru/vacancy/85931388?query=Python+de...</td>\n",
       "      <td>https://hh.ru/vacancies/</td>\n",
       "    </tr>\n",
       "    <tr>\n",
       "      <th>1997</th>\n",
       "      <td>Senior Data Analyst \"Growth\"</td>\n",
       "      <td>None</td>\n",
       "      <td>NaN</td>\n",
       "      <td>NaN</td>\n",
       "      <td>None</td>\n",
       "      <td>https://hh.ru/vacancy/85729705?query=Python+de...</td>\n",
       "      <td>https://hh.ru/vacancies/</td>\n",
       "    </tr>\n",
       "    <tr>\n",
       "      <th>1998</th>\n",
       "      <td>Verification Engineer / Инженер верификатор</td>\n",
       "      <td>None</td>\n",
       "      <td>NaN</td>\n",
       "      <td>NaN</td>\n",
       "      <td>None</td>\n",
       "      <td>https://hh.ru/vacancy/85878742?query=Python+de...</td>\n",
       "      <td>https://hh.ru/vacancies/</td>\n",
       "    </tr>\n",
       "    <tr>\n",
       "      <th>1999</th>\n",
       "      <td>Архитектор облачных сервисов по направлениям A...</td>\n",
       "      <td>None</td>\n",
       "      <td>NaN</td>\n",
       "      <td>NaN</td>\n",
       "      <td>None</td>\n",
       "      <td>https://hh.ru/vacancy/83925677?query=Python+de...</td>\n",
       "      <td>https://hh.ru/vacancies/</td>\n",
       "    </tr>\n",
       "  </tbody>\n",
       "</table>\n",
       "<p>2000 rows × 7 columns</p>\n",
       "</div>"
      ],
      "text/plain": [
       "                                                  title             salary  \\\n",
       "0           Программист системы сбора данных Python VBA  150000 – 200000 ₽   \n",
       "1                                    Python-разработчик        до 420000 ₽   \n",
       "2                                    Python разработчик  200000 – 320000 ₽   \n",
       "3                                    Python-разработчик  120000 – 150000 ₽   \n",
       "4                                    Python-разработчик        до 450000 ₽   \n",
       "...                                                 ...                ...   \n",
       "1995                                           Казначей  100000 – 100000 ₽   \n",
       "1996                                Solution Архитектор               None   \n",
       "1997                       Senior Data Analyst \"Growth\"               None   \n",
       "1998        Verification Engineer / Инженер верификатор               None   \n",
       "1999  Архитектор облачных сервисов по направлениям A...               None   \n",
       "\n",
       "      min_salary  max_salary  curr  \\\n",
       "0       150000.0    200000.0     ₽   \n",
       "1            NaN    420000.0     ₽   \n",
       "2       200000.0    320000.0     ₽   \n",
       "3       120000.0    150000.0     ₽   \n",
       "4            NaN    450000.0     ₽   \n",
       "...          ...         ...   ...   \n",
       "1995    100000.0    100000.0     ₽   \n",
       "1996         NaN         NaN  None   \n",
       "1997         NaN         NaN  None   \n",
       "1998         NaN         NaN  None   \n",
       "1999         NaN         NaN  None   \n",
       "\n",
       "                                              reference  \\\n",
       "0     https://hh.ru/vacancy/86292820?query=Python+de...   \n",
       "1     https://hh.ru/vacancy/86085894?query=Python+de...   \n",
       "2     https://hh.ru/vacancy/86285552?query=Python+de...   \n",
       "3     https://hh.ru/vacancy/85155504?query=Python+de...   \n",
       "4     https://hh.ru/vacancy/86120529?query=Python+de...   \n",
       "...                                                 ...   \n",
       "1995  https://hh.ru/vacancy/86285060?query=Python+de...   \n",
       "1996  https://hh.ru/vacancy/85931388?query=Python+de...   \n",
       "1997  https://hh.ru/vacancy/85729705?query=Python+de...   \n",
       "1998  https://hh.ru/vacancy/85878742?query=Python+de...   \n",
       "1999  https://hh.ru/vacancy/83925677?query=Python+de...   \n",
       "\n",
       "                        source  \n",
       "0     https://hh.ru/vacancies/  \n",
       "1     https://hh.ru/vacancies/  \n",
       "2     https://hh.ru/vacancies/  \n",
       "3     https://hh.ru/vacancies/  \n",
       "4     https://hh.ru/vacancies/  \n",
       "...                        ...  \n",
       "1995  https://hh.ru/vacancies/  \n",
       "1996  https://hh.ru/vacancies/  \n",
       "1997  https://hh.ru/vacancies/  \n",
       "1998  https://hh.ru/vacancies/  \n",
       "1999  https://hh.ru/vacancies/  \n",
       "\n",
       "[2000 rows x 7 columns]"
      ]
     },
     "execution_count": 44,
     "metadata": {},
     "output_type": "execute_result"
    }
   ],
   "source": [
    "vac_dataset"
   ]
  },
  {
   "cell_type": "code",
   "execution_count": 51,
   "metadata": {},
   "outputs": [],
   "source": [
    "vac_dataset_1 = vac_dataset[0:1850] #основная часть вакансий"
   ]
  },
  {
   "cell_type": "code",
   "execution_count": 53,
   "metadata": {},
   "outputs": [],
   "source": [
    "vac_dataset_2 = vac_dataset[0:1900] #дополненный датасет вакансий"
   ]
  },
  {
   "cell_type": "code",
   "execution_count": 83,
   "metadata": {},
   "outputs": [],
   "source": [
    "vac_dataset_3 = vac_dataset #еще раз дополненный датасет, моделируем ситуацию сбора информации через интервалы времени"
   ]
  },
  {
   "cell_type": "code",
   "execution_count": 45,
   "metadata": {},
   "outputs": [],
   "source": [
    "import pymongo\n",
    "from bson import ObjectId\n",
    "from pymongo import MongoClient"
   ]
  },
  {
   "cell_type": "code",
   "execution_count": 57,
   "metadata": {},
   "outputs": [],
   "source": [
    "from pprint import pprint"
   ]
  },
  {
   "cell_type": "code",
   "execution_count": 47,
   "metadata": {},
   "outputs": [],
   "source": [
    "client = MongoClient('127.0.0.1', 27017)"
   ]
  },
  {
   "cell_type": "code",
   "execution_count": 48,
   "metadata": {},
   "outputs": [],
   "source": [
    "db = client[\"vacancies\"]"
   ]
  },
  {
   "cell_type": "code",
   "execution_count": 49,
   "metadata": {},
   "outputs": [],
   "source": [
    "vac_hh = db.vac_hh"
   ]
  },
  {
   "cell_type": "code",
   "execution_count": 55,
   "metadata": {},
   "outputs": [
    {
     "data": {
      "text/plain": [
       "<pymongo.results.InsertManyResult at 0x1e6bb770440>"
      ]
     },
     "execution_count": 55,
     "metadata": {},
     "output_type": "execute_result"
    }
   ],
   "source": [
    "vac_hh.insert_many(vac_dataset_1.to_dict('records'))"
   ]
  },
  {
   "cell_type": "code",
   "execution_count": 59,
   "metadata": {},
   "outputs": [
    {
     "data": {
      "text/plain": [
       "{'_id': ObjectId('64f90608a0239c17070e3734'),\n",
       " 'title': 'Python-разработчик',\n",
       " 'salary': 'до 420000 ₽',\n",
       " 'min_salary': nan,\n",
       " 'max_salary': 420000.0,\n",
       " 'curr': '₽',\n",
       " 'reference': 'https://hh.ru/vacancy/86085894?query=Python+developer',\n",
       " 'source': 'https://hh.ru/vacancies/'}"
      ]
     },
     "execution_count": 59,
     "metadata": {},
     "output_type": "execute_result"
    }
   ],
   "source": [
    "vac_hh.find_one({'title': 'Python-разработчик'})"
   ]
  },
  {
   "cell_type": "code",
   "execution_count": 73,
   "metadata": {},
   "outputs": [],
   "source": [
    "vac_2 = vac_dataset_2.to_dict('records')"
   ]
  },
  {
   "cell_type": "code",
   "execution_count": 74,
   "metadata": {},
   "outputs": [],
   "source": [
    "for elem in vac_2:\n",
    "    ref = vac_hh.find_one({'reference': elem.get('reference')})\n",
    "    if ref == None:\n",
    "        vac_hh.insert_one(elem)"
   ]
  },
  {
   "cell_type": "code",
   "execution_count": 81,
   "metadata": {},
   "outputs": [
    {
     "name": "stdout",
     "output_type": "stream",
     "text": [
      "1900\n"
     ]
    }
   ],
   "source": [
    "count = vac_hh.count_documents({})\n",
    "print(count)"
   ]
  },
  {
   "cell_type": "code",
   "execution_count": 84,
   "metadata": {},
   "outputs": [],
   "source": [
    "vac_3 = vac_dataset_3.to_dict('records')"
   ]
  },
  {
   "cell_type": "code",
   "execution_count": 85,
   "metadata": {},
   "outputs": [],
   "source": [
    "for elem in vac_3:\n",
    "    ref = vac_hh.find_one({'reference': elem.get('reference')})\n",
    "    if ref == None:\n",
    "        vac_hh.insert_one(elem)"
   ]
  },
  {
   "cell_type": "code",
   "execution_count": 86,
   "metadata": {},
   "outputs": [
    {
     "name": "stdout",
     "output_type": "stream",
     "text": [
      "2000\n"
     ]
    }
   ],
   "source": [
    "count = vac_hh.count_documents({})\n",
    "print(count)"
   ]
  },
  {
   "cell_type": "code",
   "execution_count": 87,
   "metadata": {},
   "outputs": [],
   "source": [
    "param = 100000"
   ]
  },
  {
   "cell_type": "code",
   "execution_count": 89,
   "metadata": {},
   "outputs": [],
   "source": [
    "salary_param_list = []\n",
    "for doc in vac_hh.find({'min_salary': {'$gt': param}} or {'max_salary': {'$gt': param}}):\n",
    "    salary_param_list.append(doc)\n",
    "salary_param_set = pd.DataFrame(salary_param_list)"
   ]
  },
  {
   "cell_type": "code",
   "execution_count": 90,
   "metadata": {},
   "outputs": [
    {
     "data": {
      "text/html": [
       "<div>\n",
       "<style scoped>\n",
       "    .dataframe tbody tr th:only-of-type {\n",
       "        vertical-align: middle;\n",
       "    }\n",
       "\n",
       "    .dataframe tbody tr th {\n",
       "        vertical-align: top;\n",
       "    }\n",
       "\n",
       "    .dataframe thead th {\n",
       "        text-align: right;\n",
       "    }\n",
       "</style>\n",
       "<table border=\"1\" class=\"dataframe\">\n",
       "  <thead>\n",
       "    <tr style=\"text-align: right;\">\n",
       "      <th></th>\n",
       "      <th>_id</th>\n",
       "      <th>title</th>\n",
       "      <th>salary</th>\n",
       "      <th>min_salary</th>\n",
       "      <th>max_salary</th>\n",
       "      <th>curr</th>\n",
       "      <th>reference</th>\n",
       "      <th>source</th>\n",
       "    </tr>\n",
       "  </thead>\n",
       "  <tbody>\n",
       "    <tr>\n",
       "      <th>0</th>\n",
       "      <td>64f90608a0239c17070e3733</td>\n",
       "      <td>Программист системы сбора данных Python VBA</td>\n",
       "      <td>150000 – 200000 ₽</td>\n",
       "      <td>150000.0</td>\n",
       "      <td>200000.0</td>\n",
       "      <td>₽</td>\n",
       "      <td>https://hh.ru/vacancy/86292820?query=Python+de...</td>\n",
       "      <td>https://hh.ru/vacancies/</td>\n",
       "    </tr>\n",
       "    <tr>\n",
       "      <th>1</th>\n",
       "      <td>64f90608a0239c17070e3735</td>\n",
       "      <td>Python разработчик</td>\n",
       "      <td>200000 – 320000 ₽</td>\n",
       "      <td>200000.0</td>\n",
       "      <td>320000.0</td>\n",
       "      <td>₽</td>\n",
       "      <td>https://hh.ru/vacancy/86285552?query=Python+de...</td>\n",
       "      <td>https://hh.ru/vacancies/</td>\n",
       "    </tr>\n",
       "    <tr>\n",
       "      <th>2</th>\n",
       "      <td>64f90608a0239c17070e3736</td>\n",
       "      <td>Python-разработчик</td>\n",
       "      <td>120000 – 150000 ₽</td>\n",
       "      <td>120000.0</td>\n",
       "      <td>150000.0</td>\n",
       "      <td>₽</td>\n",
       "      <td>https://hh.ru/vacancy/85155504?query=Python+de...</td>\n",
       "      <td>https://hh.ru/vacancies/</td>\n",
       "    </tr>\n",
       "    <tr>\n",
       "      <th>3</th>\n",
       "      <td>64f90608a0239c17070e3739</td>\n",
       "      <td>Python разработчик</td>\n",
       "      <td>170000 – 265000 ₽</td>\n",
       "      <td>170000.0</td>\n",
       "      <td>265000.0</td>\n",
       "      <td>₽</td>\n",
       "      <td>https://hh.ru/vacancy/85989567?query=Python+de...</td>\n",
       "      <td>https://hh.ru/vacancies/</td>\n",
       "    </tr>\n",
       "    <tr>\n",
       "      <th>4</th>\n",
       "      <td>64f90608a0239c17070e373b</td>\n",
       "      <td>Middle Python-разработчик</td>\n",
       "      <td>180000 – 230000 ₽</td>\n",
       "      <td>180000.0</td>\n",
       "      <td>230000.0</td>\n",
       "      <td>₽</td>\n",
       "      <td>https://hh.ru/vacancy/86189756?query=Python+de...</td>\n",
       "      <td>https://hh.ru/vacancies/</td>\n",
       "    </tr>\n",
       "    <tr>\n",
       "      <th>...</th>\n",
       "      <td>...</td>\n",
       "      <td>...</td>\n",
       "      <td>...</td>\n",
       "      <td>...</td>\n",
       "      <td>...</td>\n",
       "      <td>...</td>\n",
       "      <td>...</td>\n",
       "      <td>...</td>\n",
       "    </tr>\n",
       "    <tr>\n",
       "      <th>239</th>\n",
       "      <td>64f91193a0239c17070e3e9c</td>\n",
       "      <td>Системный аналитик в аккредитованную компанию</td>\n",
       "      <td>от 200000 ₽</td>\n",
       "      <td>200000.0</td>\n",
       "      <td>NaN</td>\n",
       "      <td>₽</td>\n",
       "      <td>https://hh.ru/vacancy/86073778?query=Python+de...</td>\n",
       "      <td>https://hh.ru/vacancies/</td>\n",
       "    </tr>\n",
       "    <tr>\n",
       "      <th>240</th>\n",
       "      <td>64f91350a0239c17070e3ea0</td>\n",
       "      <td>Начальник ИТ отдела / Ведущий системный админи...</td>\n",
       "      <td>150000 – 150000 ₽</td>\n",
       "      <td>150000.0</td>\n",
       "      <td>150000.0</td>\n",
       "      <td>₽</td>\n",
       "      <td>https://hh.ru/vacancy/85122796?query=Python+de...</td>\n",
       "      <td>https://hh.ru/vacancies/</td>\n",
       "    </tr>\n",
       "    <tr>\n",
       "      <th>241</th>\n",
       "      <td>64f91350a0239c17070e3eaa</td>\n",
       "      <td>Начальник ИТ-отдела (специального программного...</td>\n",
       "      <td>от 160000 ₽</td>\n",
       "      <td>160000.0</td>\n",
       "      <td>NaN</td>\n",
       "      <td>₽</td>\n",
       "      <td>https://hh.ru/vacancy/81345330?query=Python+de...</td>\n",
       "      <td>https://hh.ru/vacancies/</td>\n",
       "    </tr>\n",
       "    <tr>\n",
       "      <th>242</th>\n",
       "      <td>64f91350a0239c17070e3eae</td>\n",
       "      <td>Программист</td>\n",
       "      <td>от 150000 ₽</td>\n",
       "      <td>150000.0</td>\n",
       "      <td>NaN</td>\n",
       "      <td>₽</td>\n",
       "      <td>https://hh.ru/vacancy/85968189?query=Python+de...</td>\n",
       "      <td>https://hh.ru/vacancies/</td>\n",
       "    </tr>\n",
       "    <tr>\n",
       "      <th>243</th>\n",
       "      <td>64f91351a0239c17070e3eba</td>\n",
       "      <td>Менеджер по продажам IT</td>\n",
       "      <td>от 150000 ₽</td>\n",
       "      <td>150000.0</td>\n",
       "      <td>NaN</td>\n",
       "      <td>₽</td>\n",
       "      <td>https://hh.ru/vacancy/82329726?query=Python+de...</td>\n",
       "      <td>https://hh.ru/vacancies/</td>\n",
       "    </tr>\n",
       "  </tbody>\n",
       "</table>\n",
       "<p>244 rows × 8 columns</p>\n",
       "</div>"
      ],
      "text/plain": [
       "                          _id  \\\n",
       "0    64f90608a0239c17070e3733   \n",
       "1    64f90608a0239c17070e3735   \n",
       "2    64f90608a0239c17070e3736   \n",
       "3    64f90608a0239c17070e3739   \n",
       "4    64f90608a0239c17070e373b   \n",
       "..                        ...   \n",
       "239  64f91193a0239c17070e3e9c   \n",
       "240  64f91350a0239c17070e3ea0   \n",
       "241  64f91350a0239c17070e3eaa   \n",
       "242  64f91350a0239c17070e3eae   \n",
       "243  64f91351a0239c17070e3eba   \n",
       "\n",
       "                                                 title             salary  \\\n",
       "0          Программист системы сбора данных Python VBA  150000 – 200000 ₽   \n",
       "1                                   Python разработчик  200000 – 320000 ₽   \n",
       "2                                   Python-разработчик  120000 – 150000 ₽   \n",
       "3                                   Python разработчик  170000 – 265000 ₽   \n",
       "4                            Middle Python-разработчик  180000 – 230000 ₽   \n",
       "..                                                 ...                ...   \n",
       "239      Системный аналитик в аккредитованную компанию        от 200000 ₽   \n",
       "240  Начальник ИТ отдела / Ведущий системный админи...  150000 – 150000 ₽   \n",
       "241  Начальник ИТ-отдела (специального программного...        от 160000 ₽   \n",
       "242                                        Программист        от 150000 ₽   \n",
       "243                            Менеджер по продажам IT        от 150000 ₽   \n",
       "\n",
       "     min_salary  max_salary curr  \\\n",
       "0      150000.0    200000.0    ₽   \n",
       "1      200000.0    320000.0    ₽   \n",
       "2      120000.0    150000.0    ₽   \n",
       "3      170000.0    265000.0    ₽   \n",
       "4      180000.0    230000.0    ₽   \n",
       "..          ...         ...  ...   \n",
       "239    200000.0         NaN    ₽   \n",
       "240    150000.0    150000.0    ₽   \n",
       "241    160000.0         NaN    ₽   \n",
       "242    150000.0         NaN    ₽   \n",
       "243    150000.0         NaN    ₽   \n",
       "\n",
       "                                             reference  \\\n",
       "0    https://hh.ru/vacancy/86292820?query=Python+de...   \n",
       "1    https://hh.ru/vacancy/86285552?query=Python+de...   \n",
       "2    https://hh.ru/vacancy/85155504?query=Python+de...   \n",
       "3    https://hh.ru/vacancy/85989567?query=Python+de...   \n",
       "4    https://hh.ru/vacancy/86189756?query=Python+de...   \n",
       "..                                                 ...   \n",
       "239  https://hh.ru/vacancy/86073778?query=Python+de...   \n",
       "240  https://hh.ru/vacancy/85122796?query=Python+de...   \n",
       "241  https://hh.ru/vacancy/81345330?query=Python+de...   \n",
       "242  https://hh.ru/vacancy/85968189?query=Python+de...   \n",
       "243  https://hh.ru/vacancy/82329726?query=Python+de...   \n",
       "\n",
       "                       source  \n",
       "0    https://hh.ru/vacancies/  \n",
       "1    https://hh.ru/vacancies/  \n",
       "2    https://hh.ru/vacancies/  \n",
       "3    https://hh.ru/vacancies/  \n",
       "4    https://hh.ru/vacancies/  \n",
       "..                        ...  \n",
       "239  https://hh.ru/vacancies/  \n",
       "240  https://hh.ru/vacancies/  \n",
       "241  https://hh.ru/vacancies/  \n",
       "242  https://hh.ru/vacancies/  \n",
       "243  https://hh.ru/vacancies/  \n",
       "\n",
       "[244 rows x 8 columns]"
      ]
     },
     "execution_count": 90,
     "metadata": {},
     "output_type": "execute_result"
    }
   ],
   "source": [
    "salary_param_set"
   ]
  },
  {
   "cell_type": "code",
   "execution_count": null,
   "metadata": {},
   "outputs": [],
   "source": []
  }
 ],
 "metadata": {
  "colab": {
   "provenance": []
  },
  "kernelspec": {
   "display_name": "Python 3",
   "language": "python",
   "name": "python3"
  },
  "language_info": {
   "codemirror_mode": {
    "name": "ipython",
    "version": 3
   },
   "file_extension": ".py",
   "mimetype": "text/x-python",
   "name": "python",
   "nbconvert_exporter": "python",
   "pygments_lexer": "ipython3",
   "version": "3.8.8"
  }
 },
 "nbformat": 4,
 "nbformat_minor": 1
}
